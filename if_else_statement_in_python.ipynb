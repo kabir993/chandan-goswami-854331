{
  "nbformat": 4,
  "nbformat_minor": 0,
  "metadata": {
    "colab": {
      "provenance": [],
      "authorship_tag": "ABX9TyOjor7ymhq+1XPpR32ad/Wc",
      "include_colab_link": true
    },
    "kernelspec": {
      "name": "python3",
      "display_name": "Python 3"
    },
    "language_info": {
      "name": "python"
    }
  },
  "cells": [
    {
      "cell_type": "markdown",
      "metadata": {
        "id": "view-in-github",
        "colab_type": "text"
      },
      "source": [
        "<a href=\"https://colab.research.google.com/github/kabir993/kabiropedia/blob/main/if_else_statement_in_python.ipynb\" target=\"_parent\"><img src=\"https://colab.research.google.com/assets/colab-badge.svg\" alt=\"Open In Colab\"/></a>"
      ]
    },
    {
      "cell_type": "markdown",
      "source": [
        "simple if else statement"
      ],
      "metadata": {
        "id": "d9BVXu7Nqxkh"
      }
    },
    {
      "cell_type": "code",
      "source": [
        "a=10\n",
        "b=20\n",
        "if a>b:\n",
        "    print(\"a is greater than b\")\n",
        "else:\n",
        "    print(\"b is greater than a\")"
      ],
      "metadata": {
        "colab": {
          "base_uri": "https://localhost:8080/"
        },
        "id": "e92cc3yRq22J",
        "outputId": "b6b7ad31-7510-4c4d-e20b-77f0c237dec4"
      },
      "execution_count": null,
      "outputs": [
        {
          "output_type": "stream",
          "name": "stdout",
          "text": [
            "b is greater than a\n"
          ]
        }
      ]
    },
    {
      "cell_type": "code",
      "source": [
        "a=int(input(\"enter the value of a:\"))\n",
        "b=int(input(\"enter the value of b:\"))\n",
        "if a>b:\n",
        "    print(\"a is greater than b\")\n",
        "else:\n",
        "    print(\"b is greater than a\")"
      ],
      "metadata": {
        "colab": {
          "base_uri": "https://localhost:8080/"
        },
        "id": "wBMPsY5hrAPq",
        "outputId": "5d3cdb7c-489e-4fbe-86b5-9c16c7b422f6"
      },
      "execution_count": null,
      "outputs": [
        {
          "output_type": "stream",
          "name": "stdout",
          "text": [
            "enter the value of a:20\n",
            "enter the value of b:40\n",
            "b is greater than a\n"
          ]
        }
      ]
    },
    {
      "cell_type": "markdown",
      "source": [
        "if elif else statement"
      ],
      "metadata": {
        "id": "jG6BwbOFrs_B"
      }
    },
    {
      "cell_type": "code",
      "source": [
        "a=15\n",
        "b=20\n",
        "c=25\n",
        "if a>b and a>c:\n",
        "    print(\"a is greater than b and c\")\n",
        "elif b>a and b>c:\n",
        "    print(\"b is greater than a and c\")\n",
        "else:\n",
        "    print(\"c is greater than a and b\")"
      ],
      "metadata": {
        "colab": {
          "base_uri": "https://localhost:8080/"
        },
        "id": "eiDWVh-stMFY",
        "outputId": "35ff3509-79f2-4b0e-b308-cb0e2544ae25"
      },
      "execution_count": null,
      "outputs": [
        {
          "output_type": "stream",
          "name": "stdout",
          "text": [
            "c is greater than a and b\n"
          ]
        }
      ]
    },
    {
      "cell_type": "markdown",
      "source": [
        "nested if statement\n"
      ],
      "metadata": {
        "id": "wiWGRT3RtYZZ"
      }
    },
    {
      "cell_type": "code",
      "source": [
        "from types import EllipsisType\n",
        "a=20\n",
        "b=40\n",
        "c=60\n",
        "if a>b:\n",
        "    if a>c:\n",
        "        print(\"a is greater than b and c\")\n",
        "    else:\n",
        "        print(\"c is greater than a and b\")\n",
        "else:\n",
        "    if b>c:\n",
        "        print(\"b is greater than a and c\")\n",
        "    else:\n",
        "        print(\"c is greater than a and b\")"
      ],
      "metadata": {
        "colab": {
          "base_uri": "https://localhost:8080/"
        },
        "id": "L0wp7LAnu4Mi",
        "outputId": "14bafdb4-1154-449d-8e67-36a52896c572"
      },
      "execution_count": null,
      "outputs": [
        {
          "output_type": "stream",
          "name": "stdout",
          "text": [
            "c is greater than a and b\n"
          ]
        }
      ]
    },
    {
      "cell_type": "code",
      "source": [],
      "metadata": {
        "id": "mGowxOy1vYev"
      },
      "execution_count": null,
      "outputs": []
    }
  ]
}