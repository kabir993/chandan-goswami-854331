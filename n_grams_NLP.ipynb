{
  "cells": [
    {
      "cell_type": "markdown",
      "metadata": {
        "id": "view-in-github",
        "colab_type": "text"
      },
      "source": [
        "<a href=\"https://colab.research.google.com/github/kabir993/kabiropedia/blob/main/n_grams_NLP.ipynb\" target=\"_parent\"><img src=\"https://colab.research.google.com/assets/colab-badge.svg\" alt=\"Open In Colab\"/></a>"
      ]
    },
    {
      "cell_type": "code",
      "execution_count": null,
      "metadata": {
        "colab": {
          "base_uri": "https://localhost:8080/"
        },
        "id": "wYeTqhbvXQ9m",
        "outputId": "88cf5b81-caf2-4982-9729-f6a4e6c6bfe5"
      },
      "outputs": [
        {
          "name": "stderr",
          "output_type": "stream",
          "text": [
            "[nltk_data] Downloading package punkt_tab to /root/nltk_data...\n",
            "[nltk_data]   Unzipping tokenizers/punkt_tab.zip.\n"
          ]
        },
        {
          "name": "stdout",
          "output_type": "stream",
          "text": [
            "['i', 'am', 'chandan', 'goswami', ',', 'i', 'am', 'aspiring', 'data', 'scientist', ',', 'i', 'know', 'how', 'to', 'play', 'with', 'the', 'data', ',', 'i', 'am', 'a', 'good', 'men']\n"
          ]
        }
      ],
      "source": [
        "import nltk\n",
        "\n",
        "nltk.download('punkt_tab')\n",
        "\n",
        "x = \"i am chandan goswami,  i am aspiring data scientist,i know how to play with the data,i am a good men \"\n",
        "\n",
        "from nltk.tokenize import word_tokenize\n",
        "\n",
        "w = word_tokenize(x)\n",
        "\n",
        "print(w)"
      ]
    },
    {
      "cell_type": "code",
      "execution_count": null,
      "metadata": {
        "colab": {
          "background_save": true
        },
        "id": "Odxoght7XVc9",
        "outputId": "058c3dd6-8c12-4463-fe72-23120711a5ec"
      },
      "outputs": [
        {
          "data": {
            "text/plain": [
              "['i',\n",
              " 'am',\n",
              " 'chandan',\n",
              " 'goswami',\n",
              " ',',\n",
              " 'i',\n",
              " 'am',\n",
              " 'aspiring',\n",
              " 'data',\n",
              " 'scientist',\n",
              " ',',\n",
              " 'i',\n",
              " 'know',\n",
              " 'how',\n",
              " 'to',\n",
              " 'play',\n",
              " 'with',\n",
              " 'the',\n",
              " 'data',\n",
              " ',',\n",
              " 'i',\n",
              " 'am',\n",
              " 'a',\n",
              " 'good',\n",
              " 'men']"
            ]
          },
          "execution_count": 5,
          "metadata": {},
          "output_type": "execute_result"
        }
      ],
      "source": [
        "w"
      ]
    },
    {
      "cell_type": "code",
      "execution_count": null,
      "metadata": {
        "id": "OvCxyMgsXV_F"
      },
      "outputs": [],
      "source": []
    }
  ],
  "metadata": {
    "colab": {
      "provenance": [],
      "authorship_tag": "ABX9TyNYwlFXtO12lBYeWq26x7Rl",
      "include_colab_link": true
    },
    "kernelspec": {
      "display_name": "Python 3",
      "name": "python3"
    },
    "language_info": {
      "name": "python"
    }
  },
  "nbformat": 4,
  "nbformat_minor": 0
}