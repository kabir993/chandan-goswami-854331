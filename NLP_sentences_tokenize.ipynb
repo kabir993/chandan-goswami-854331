{
  "nbformat": 4,
  "nbformat_minor": 0,
  "metadata": {
    "colab": {
      "provenance": [],
      "authorship_tag": "ABX9TyOLX8jLAjowi2Qn2Kc2fxAF",
      "include_colab_link": true
    },
    "kernelspec": {
      "name": "python3",
      "display_name": "Python 3"
    },
    "language_info": {
      "name": "python"
    }
  },
  "cells": [
    {
      "cell_type": "markdown",
      "metadata": {
        "id": "view-in-github",
        "colab_type": "text"
      },
      "source": [
        "<a href=\"https://colab.research.google.com/github/kabir993/kabiropedia/blob/main/NLP_sentences_tokenize.ipynb\" target=\"_parent\"><img src=\"https://colab.research.google.com/assets/colab-badge.svg\" alt=\"Open In Colab\"/></a>"
      ]
    },
    {
      "cell_type": "code",
      "source": [
        "import nltk\n",
        "\n",
        "\n",
        "nltk.download('punkt_tab')\n",
        "\n",
        "from nltk.tokenize import word_tokenize, sent_tokenize\n",
        "\n",
        "var = (\"After the printing press was invented, dictionaries with long definitions began to be called encyclopedias that were books that has articles or subjects For example, a dictionary of science, if it included essays or paragraphs, it was thought of as an encyclopedia or knowledgeable book on the subject of science. Some encyclopedias then put essays on more than one subject in alphabetical order instead of grouping them together by subject. The word, encyclopedia, was put in the title of some encyclopedias\")\n",
        "\n",
        "sent = sent_tokenize(var)"
      ],
      "metadata": {
        "colab": {
          "base_uri": "https://localhost:8080/"
        },
        "id": "vqR_0ewGfr_6",
        "outputId": "b780b4f5-09e2-4096-aec5-29bac8f2b7b0"
      },
      "execution_count": null,
      "outputs": [
        {
          "output_type": "stream",
          "name": "stderr",
          "text": [
            "[nltk_data] Downloading package punkt_tab to /root/nltk_data...\n",
            "[nltk_data]   Unzipping tokenizers/punkt_tab.zip.\n"
          ]
        }
      ]
    },
    {
      "cell_type": "code",
      "source": [
        "sent"
      ],
      "metadata": {
        "colab": {
          "base_uri": "https://localhost:8080/"
        },
        "id": "73ggY4dmfv3C",
        "outputId": "8337ff7c-f56d-4870-ff42-f2d33e208d87"
      },
      "execution_count": null,
      "outputs": [
        {
          "output_type": "execute_result",
          "data": {
            "text/plain": [
              "['After the printing press was invented, dictionaries with long definitions began to be called encyclopedias that were books that has articles or subjects For example, a dictionary of science, if it included essays or paragraphs, it was thought of as an encyclopedia or knowledgeable book on the subject of science.',\n",
              " 'Some encyclopedias then put essays on more than one subject in alphabetical order instead of grouping them together by subject.',\n",
              " 'The word, encyclopedia, was put in the title of some encyclopedias']"
            ]
          },
          "metadata": {},
          "execution_count": 13
        }
      ]
    },
    {
      "cell_type": "code",
      "source": [
        "for i in sent:\n",
        "  print(i)\n",
        "  print()"
      ],
      "metadata": {
        "colab": {
          "base_uri": "https://localhost:8080/"
        },
        "id": "quC7HXOmfxSG",
        "outputId": "4de423d0-5273-4e18-f87b-695829b00d6e"
      },
      "execution_count": null,
      "outputs": [
        {
          "output_type": "stream",
          "name": "stdout",
          "text": [
            "After the printing press was invented, dictionaries with long definitions began to be called encyclopedias that were books that has articles or subjects For example, a dictionary of science, if it included essays or paragraphs, it was thought of as an encyclopedia or knowledgeable book on the subject of science.\n",
            "\n",
            "Some encyclopedias then put essays on more than one subject in alphabetical order instead of grouping them together by subject.\n",
            "\n",
            "The word, encyclopedia, was put in the title of some encyclopedias\n",
            "\n"
          ]
        }
      ]
    },
    {
      "cell_type": "code",
      "source": [
        "word=word_tokenize(var)"
      ],
      "metadata": {
        "id": "9pyghOSsgX2c"
      },
      "execution_count": null,
      "outputs": []
    },
    {
      "cell_type": "code",
      "source": [
        "word"
      ],
      "metadata": {
        "colab": {
          "base_uri": "https://localhost:8080/"
        },
        "id": "KTfvgsA8gmzG",
        "outputId": "78cdaa55-6213-4451-83c7-98adbc83d81f"
      },
      "execution_count": null,
      "outputs": [
        {
          "output_type": "execute_result",
          "data": {
            "text/plain": [
              "['After',\n",
              " 'the',\n",
              " 'printing',\n",
              " 'press',\n",
              " 'was',\n",
              " 'invented',\n",
              " ',',\n",
              " 'dictionaries',\n",
              " 'with',\n",
              " 'long',\n",
              " 'definitions',\n",
              " 'began',\n",
              " 'to',\n",
              " 'be',\n",
              " 'called',\n",
              " 'encyclopedias',\n",
              " 'that',\n",
              " 'were',\n",
              " 'books',\n",
              " 'that',\n",
              " 'has',\n",
              " 'articles',\n",
              " 'or',\n",
              " 'subjects',\n",
              " 'For',\n",
              " 'example',\n",
              " ',',\n",
              " 'a',\n",
              " 'dictionary',\n",
              " 'of',\n",
              " 'science',\n",
              " ',',\n",
              " 'if',\n",
              " 'it',\n",
              " 'included',\n",
              " 'essays',\n",
              " 'or',\n",
              " 'paragraphs',\n",
              " ',',\n",
              " 'it',\n",
              " 'was',\n",
              " 'thought',\n",
              " 'of',\n",
              " 'as',\n",
              " 'an',\n",
              " 'encyclopedia',\n",
              " 'or',\n",
              " 'knowledgeable',\n",
              " 'book',\n",
              " 'on',\n",
              " 'the',\n",
              " 'subject',\n",
              " 'of',\n",
              " 'science',\n",
              " '.',\n",
              " 'Some',\n",
              " 'encyclopedias',\n",
              " 'then',\n",
              " 'put',\n",
              " 'essays',\n",
              " 'on',\n",
              " 'more',\n",
              " 'than',\n",
              " 'one',\n",
              " 'subject',\n",
              " 'in',\n",
              " 'alphabetical',\n",
              " 'order',\n",
              " 'instead',\n",
              " 'of',\n",
              " 'grouping',\n",
              " 'them',\n",
              " 'together',\n",
              " 'by',\n",
              " 'subject',\n",
              " '.',\n",
              " 'The',\n",
              " 'word',\n",
              " ',',\n",
              " 'encyclopedia',\n",
              " ',',\n",
              " 'was',\n",
              " 'put',\n",
              " 'in',\n",
              " 'the',\n",
              " 'title',\n",
              " 'of',\n",
              " 'some',\n",
              " 'encyclopedias']"
            ]
          },
          "metadata": {},
          "execution_count": 17
        }
      ]
    },
    {
      "cell_type": "markdown",
      "source": [
        "#stop words removal\n"
      ],
      "metadata": {
        "id": "LhPafGRGhB-R"
      }
    },
    {
      "cell_type": "code",
      "source": [
        "print(var)"
      ],
      "metadata": {
        "colab": {
          "base_uri": "https://localhost:8080/"
        },
        "id": "5bYqFBruhGkh",
        "outputId": "549398d9-8249-4931-b4aa-9861834e3b7f"
      },
      "execution_count": null,
      "outputs": [
        {
          "output_type": "stream",
          "name": "stdout",
          "text": [
            "After the printing press was invented, dictionaries with long definitions began to be called encyclopedias that were books that has articles or subjects For example, a dictionary of science, if it included essays or paragraphs, it was thought of as an encyclopedia or knowledgeable book on the subject of science. Some encyclopedias then put essays on more than one subject in alphabetical order instead of grouping them together by subject. The word, encyclopedia, was put in the title of some encyclopedias\n"
          ]
        }
      ]
    },
    {
      "cell_type": "code",
      "source": [
        "import nltk\n",
        "nltk.download('stopwords')\n",
        "\n",
        "\n",
        "from nltk.corpus import stopwords\n",
        "from nltk.tokenize import word_tokenize"
      ],
      "metadata": {
        "colab": {
          "base_uri": "https://localhost:8080/"
        },
        "id": "yCOZrh66hL_H",
        "outputId": "eef2e2c1-d854-4396-8467-c9cb15c4526a"
      },
      "execution_count": null,
      "outputs": [
        {
          "output_type": "stream",
          "name": "stderr",
          "text": [
            "[nltk_data] Downloading package stopwords to /root/nltk_data...\n",
            "[nltk_data]   Unzipping corpora/stopwords.zip.\n"
          ]
        }
      ]
    },
    {
      "cell_type": "code",
      "source": [
        "stopwords = stopwords.words('english')"
      ],
      "metadata": {
        "id": "nwP4RVPPh4Zu"
      },
      "execution_count": null,
      "outputs": []
    },
    {
      "cell_type": "code",
      "source": [
        "stopwords"
      ],
      "metadata": {
        "colab": {
          "base_uri": "https://localhost:8080/"
        },
        "id": "jUBMSK-nh-F8",
        "outputId": "087ccb4b-b254-4904-a367-4eab8d9c5e02"
      },
      "execution_count": null,
      "outputs": [
        {
          "output_type": "execute_result",
          "data": {
            "text/plain": [
              "['i',\n",
              " 'me',\n",
              " 'my',\n",
              " 'myself',\n",
              " 'we',\n",
              " 'our',\n",
              " 'ours',\n",
              " 'ourselves',\n",
              " 'you',\n",
              " \"you're\",\n",
              " \"you've\",\n",
              " \"you'll\",\n",
              " \"you'd\",\n",
              " 'your',\n",
              " 'yours',\n",
              " 'yourself',\n",
              " 'yourselves',\n",
              " 'he',\n",
              " 'him',\n",
              " 'his',\n",
              " 'himself',\n",
              " 'she',\n",
              " \"she's\",\n",
              " 'her',\n",
              " 'hers',\n",
              " 'herself',\n",
              " 'it',\n",
              " \"it's\",\n",
              " 'its',\n",
              " 'itself',\n",
              " 'they',\n",
              " 'them',\n",
              " 'their',\n",
              " 'theirs',\n",
              " 'themselves',\n",
              " 'what',\n",
              " 'which',\n",
              " 'who',\n",
              " 'whom',\n",
              " 'this',\n",
              " 'that',\n",
              " \"that'll\",\n",
              " 'these',\n",
              " 'those',\n",
              " 'am',\n",
              " 'is',\n",
              " 'are',\n",
              " 'was',\n",
              " 'were',\n",
              " 'be',\n",
              " 'been',\n",
              " 'being',\n",
              " 'have',\n",
              " 'has',\n",
              " 'had',\n",
              " 'having',\n",
              " 'do',\n",
              " 'does',\n",
              " 'did',\n",
              " 'doing',\n",
              " 'a',\n",
              " 'an',\n",
              " 'the',\n",
              " 'and',\n",
              " 'but',\n",
              " 'if',\n",
              " 'or',\n",
              " 'because',\n",
              " 'as',\n",
              " 'until',\n",
              " 'while',\n",
              " 'of',\n",
              " 'at',\n",
              " 'by',\n",
              " 'for',\n",
              " 'with',\n",
              " 'about',\n",
              " 'against',\n",
              " 'between',\n",
              " 'into',\n",
              " 'through',\n",
              " 'during',\n",
              " 'before',\n",
              " 'after',\n",
              " 'above',\n",
              " 'below',\n",
              " 'to',\n",
              " 'from',\n",
              " 'up',\n",
              " 'down',\n",
              " 'in',\n",
              " 'out',\n",
              " 'on',\n",
              " 'off',\n",
              " 'over',\n",
              " 'under',\n",
              " 'again',\n",
              " 'further',\n",
              " 'then',\n",
              " 'once',\n",
              " 'here',\n",
              " 'there',\n",
              " 'when',\n",
              " 'where',\n",
              " 'why',\n",
              " 'how',\n",
              " 'all',\n",
              " 'any',\n",
              " 'both',\n",
              " 'each',\n",
              " 'few',\n",
              " 'more',\n",
              " 'most',\n",
              " 'other',\n",
              " 'some',\n",
              " 'such',\n",
              " 'no',\n",
              " 'nor',\n",
              " 'not',\n",
              " 'only',\n",
              " 'own',\n",
              " 'same',\n",
              " 'so',\n",
              " 'than',\n",
              " 'too',\n",
              " 'very',\n",
              " 's',\n",
              " 't',\n",
              " 'can',\n",
              " 'will',\n",
              " 'just',\n",
              " 'don',\n",
              " \"don't\",\n",
              " 'should',\n",
              " \"should've\",\n",
              " 'now',\n",
              " 'd',\n",
              " 'll',\n",
              " 'm',\n",
              " 'o',\n",
              " 're',\n",
              " 've',\n",
              " 'y',\n",
              " 'ain',\n",
              " 'aren',\n",
              " \"aren't\",\n",
              " 'couldn',\n",
              " \"couldn't\",\n",
              " 'didn',\n",
              " \"didn't\",\n",
              " 'doesn',\n",
              " \"doesn't\",\n",
              " 'hadn',\n",
              " \"hadn't\",\n",
              " 'hasn',\n",
              " \"hasn't\",\n",
              " 'haven',\n",
              " \"haven't\",\n",
              " 'isn',\n",
              " \"isn't\",\n",
              " 'ma',\n",
              " 'mightn',\n",
              " \"mightn't\",\n",
              " 'mustn',\n",
              " \"mustn't\",\n",
              " 'needn',\n",
              " \"needn't\",\n",
              " 'shan',\n",
              " \"shan't\",\n",
              " 'shouldn',\n",
              " \"shouldn't\",\n",
              " 'wasn',\n",
              " \"wasn't\",\n",
              " 'weren',\n",
              " \"weren't\",\n",
              " 'won',\n",
              " \"won't\",\n",
              " 'wouldn',\n",
              " \"wouldn't\"]"
            ]
          },
          "metadata": {},
          "execution_count": 25
        }
      ]
    },
    {
      "cell_type": "code",
      "source": [
        "from string import punctuation"
      ],
      "metadata": {
        "id": "Uds0LtQjh-3t"
      },
      "execution_count": null,
      "outputs": []
    },
    {
      "cell_type": "code",
      "source": [
        "punctuation"
      ],
      "metadata": {
        "colab": {
          "base_uri": "https://localhost:8080/",
          "height": 36
        },
        "id": "y2j1RKmtiMy5",
        "outputId": "4adfbbf3-c237-4c27-b4d7-7bb447d7a89b"
      },
      "execution_count": null,
      "outputs": [
        {
          "output_type": "execute_result",
          "data": {
            "text/plain": [
              "'!\"#$%&\\'()*+,-./:;<=>?@[\\\\]^_`{|}~'"
            ],
            "application/vnd.google.colaboratory.intrinsic+json": {
              "type": "string"
            }
          },
          "metadata": {},
          "execution_count": 27
        }
      ]
    },
    {
      "cell_type": "code",
      "source": [
        "list(punctuation)"
      ],
      "metadata": {
        "colab": {
          "base_uri": "https://localhost:8080/"
        },
        "id": "KeUTJ31BiPWF",
        "outputId": "551bf242-6ca7-45bc-8701-117ede30e761"
      },
      "execution_count": null,
      "outputs": [
        {
          "output_type": "execute_result",
          "data": {
            "text/plain": [
              "['!',\n",
              " '\"',\n",
              " '#',\n",
              " '$',\n",
              " '%',\n",
              " '&',\n",
              " \"'\",\n",
              " '(',\n",
              " ')',\n",
              " '*',\n",
              " '+',\n",
              " ',',\n",
              " '-',\n",
              " '.',\n",
              " '/',\n",
              " ':',\n",
              " ';',\n",
              " '<',\n",
              " '=',\n",
              " '>',\n",
              " '?',\n",
              " '@',\n",
              " '[',\n",
              " '\\\\',\n",
              " ']',\n",
              " '^',\n",
              " '_',\n",
              " '`',\n",
              " '{',\n",
              " '|',\n",
              " '}',\n",
              " '~']"
            ]
          },
          "metadata": {},
          "execution_count": 28
        }
      ]
    },
    {
      "cell_type": "code",
      "source": [
        "stop_words=stopwords+list(punctuation)"
      ],
      "metadata": {
        "id": "RuShuOH-jhFa"
      },
      "execution_count": null,
      "outputs": []
    },
    {
      "cell_type": "code",
      "source": [
        "var_new=word_tokenize(var)"
      ],
      "metadata": {
        "id": "Wm80qDpoiSi7"
      },
      "execution_count": null,
      "outputs": []
    },
    {
      "cell_type": "code",
      "source": [
        "for i in var_new:\n",
        "  if i not in stop_words:\n",
        "    print(i)"
      ],
      "metadata": {
        "colab": {
          "base_uri": "https://localhost:8080/"
        },
        "id": "yLMOxRcdj_RC",
        "outputId": "9ab45f46-b3e2-494e-f862-067805dd0c23"
      },
      "execution_count": null,
      "outputs": [
        {
          "output_type": "stream",
          "name": "stdout",
          "text": [
            "After\n",
            "printing\n",
            "press\n",
            "invented\n",
            "dictionaries\n",
            "long\n",
            "definitions\n",
            "began\n",
            "called\n",
            "encyclopedias\n",
            "books\n",
            "articles\n",
            "subjects\n",
            "For\n",
            "example\n",
            "dictionary\n",
            "science\n",
            "included\n",
            "essays\n",
            "paragraphs\n",
            "thought\n",
            "encyclopedia\n",
            "knowledgeable\n",
            "book\n",
            "subject\n",
            "science\n",
            "Some\n",
            "encyclopedias\n",
            "put\n",
            "essays\n",
            "one\n",
            "subject\n",
            "alphabetical\n",
            "order\n",
            "instead\n",
            "grouping\n",
            "together\n",
            "subject\n",
            "The\n",
            "word\n",
            "encyclopedia\n",
            "put\n",
            "title\n",
            "encyclopedias\n"
          ]
        }
      ]
    }
  ]
}